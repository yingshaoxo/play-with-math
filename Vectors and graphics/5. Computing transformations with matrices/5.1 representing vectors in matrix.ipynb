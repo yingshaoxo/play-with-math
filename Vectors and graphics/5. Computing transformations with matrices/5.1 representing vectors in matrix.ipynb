{
 "cells": [
  {
   "cell_type": "markdown",
   "metadata": {},
   "source": [
    "# Represent your vectors as a matrix"
   ]
  },
  {
   "cell_type": "markdown",
   "metadata": {},
   "source": [
    "In the culmination of chapter 4, I stated a big idea: any linear transformation in 3D can be specified by just three vectors or nine numbers total. By correctly selecting these nine numbers, we can achieve rotation by any angle about any axis, reflection across any plane, projection onto any plane, scaling by any factor in any direction, or any other 3D linear transformation."
   ]
  },
  {
   "cell_type": "markdown",
   "metadata": {},
   "source": [
    "In mathematics, the standard basis (also called natural basis) of a coordinate vector space is the set of vectors whose coordinates are all zero, except one that equals 1. For example, in the case of the Euclidean plane formed by the pairs (x, y) of real numbers, the standard basis is formed by the vectors\n",
    "\n",
    "$$\n",
    "{\\displaystyle \\mathbf {e} _{x}=(1,0),\\quad \\mathbf {e} _{y}=(0,1).}\n",
    "$$\n",
    "\n",
    "Similarly, the standard basis for the three-dimensional space is formed by vectors\n",
    "\n",
    "$$\n",
    "{\\displaystyle \\mathbf {e} _{x}=(1,0,0),\\quad \\mathbf {e} _{y}=(0,1,0),\\quad \\mathbf {e} _{z}=(0,0,1).}\n",
    "$$"
   ]
  },
  {
   "cell_type": "markdown",
   "metadata": {},
   "source": [
    "The standard basis for three dimensions can be written as three column vectors like this:\n",
    "\n",
    "$$\n",
    "e_x = \\begin{pmatrix}\n",
    "1 \\\\\n",
    "0 \\\\\n",
    "0 \\\\\n",
    "\\end{pmatrix}\n",
    ",\n",
    "\\quad\n",
    "e_y = \\begin{pmatrix}\n",
    "0 \\\\\n",
    "1 \\\\\n",
    "0 \\\\\n",
    "\\end{pmatrix}\n",
    ",\n",
    "\\quad\n",
    "e_z = \\begin{pmatrix}\n",
    "0 \\\\\n",
    "0 \\\\\n",
    "1 \\\\\n",
    "\\end{pmatrix}\n",
    "$$"
   ]
  },
  {
   "cell_type": "markdown",
   "metadata": {},
   "source": [
    "If we have a 3D linear transformation `A` that does no transformation, `A` would be a 3-by-3 grid consisting of these vectors squashed together side by side:\n",
    "\n",
    "$$\n",
    "A = \\begin{pmatrix}\n",
    "1 & 0 & 0 \\\\\n",
    "0 & 1 & 0 \\\\\n",
    "0 & 0 & 1\n",
    "\\end{pmatrix}\n",
    "$$\n",
    "\n",
    "> The way to get a matrix from a linear transformation is to find the vectors it produces from all of the standard basis vectors and combine the results side by side."
   ]
  },
  {
   "cell_type": "markdown",
   "metadata": {},
   "source": [
    "# Get columns from your matrix"
   ]
  },
  {
   "cell_type": "markdown",
   "metadata": {},
   "source": [
    "The advantage of defining a matrix in Python as a tuple of rows is that the numbers are laid out in the same order as we would write them on paper. We can, however, get the columns any time we want by using Python’s zip function:\n",
    "\n",
    "```python\n",
    ">>> list(zip(*B))\n",
    "[(0, 0, 1), (2, 1, 0), (1, 0, -1)]\n",
    "```\n",
    "\n",
    "The first entry of this list is (0, 0, 1), which is the first column of B, and so on. What we want is the linear combination of these vectors, where the scalars are the coordinates of v. To get this, we can use the linear_combination function from the exercise in section 4.2.5. The first argument to linear_combination should be v, which serves as the list of scalars, and the subsequent arguments should be the columns of B. Here’s the complete function:\n",
    "```python\n",
    "def multiply_matrix_vector(matrix, vector):\n",
    "    return linear_combination(vector, *zip(*matrix))\n",
    "```"
   ]
  },
  {
   "cell_type": "code",
   "execution_count": null,
   "metadata": {},
   "outputs": [],
   "source": []
  }
 ],
 "metadata": {
  "kernelspec": {
   "display_name": "Python 3",
   "language": "python",
   "name": "python3"
  },
  "language_info": {
   "codemirror_mode": {
    "name": "ipython",
    "version": 3
   },
   "file_extension": ".py",
   "mimetype": "text/x-python",
   "name": "python",
   "nbconvert_exporter": "python",
   "pygments_lexer": "ipython3",
   "version": "3.9.0"
  }
 },
 "nbformat": 4,
 "nbformat_minor": 4
}
