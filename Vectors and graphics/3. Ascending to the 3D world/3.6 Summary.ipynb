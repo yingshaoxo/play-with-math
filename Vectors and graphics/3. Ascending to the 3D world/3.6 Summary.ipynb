{
 "cells": [
  {
   "cell_type": "markdown",
   "metadata": {},
   "source": [
    "* Whereas vectors in 2D have lengths and widths, vectors in 3D also have depths.\n",
    "\n",
    "* 3D vectors are defined with triples of numbers called x-, y-, and z-coordinates. They tell us how far from the origin we need to travel in each direction to get to a 3D point.\n",
    "\n",
    "* As with 2D vectors, 3D vectors can be added, subtracted, and multiplied by scalars. We can find their lengths using a 3D analogy of the Pythagorean theorem.\n",
    "\n",
    "* The dot product is a way to multiply two vectors and get a scalar. It measures how aligned two vectors are, and we can use its value to find the angle between two vectors.\n",
    "\n",
    "* The cross product is a way to multiply two vectors and get a third vector that is perpendicular to both input vectors. The magnitude of the output of the cross product is the area of the parallelogram spanned by the two input vectors.\n",
    "\n",
    "* We can represent the surface of any 3D object as a collection of triangles, where each triangle is respectively defined by three vectors representing its vertices.\n",
    "\n",
    "* Using the cross product, we can decide which direction a triangle is visible from in 3D. This can tell us whether a viewer can see it or how illuminated it is by a given light source. By drawing and shading all of the triangles defining an object’s surface, we can make it look three-dimensional."
   ]
  },
  {
   "cell_type": "code",
   "execution_count": null,
   "metadata": {},
   "outputs": [],
   "source": []
  }
 ],
 "metadata": {
  "kernelspec": {
   "display_name": "Python 3",
   "language": "python",
   "name": "python3"
  },
  "language_info": {
   "codemirror_mode": {
    "name": "ipython",
    "version": 3
   },
   "file_extension": ".py",
   "mimetype": "text/x-python",
   "name": "python",
   "nbconvert_exporter": "python",
   "pygments_lexer": "ipython3",
   "version": "3.9.0"
  }
 },
 "nbformat": 4,
 "nbformat_minor": 4
}
