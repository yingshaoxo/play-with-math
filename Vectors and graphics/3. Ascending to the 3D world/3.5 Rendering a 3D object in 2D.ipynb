{
 "cells": [
  {
   "cell_type": "markdown",
   "metadata": {},
   "source": [
    "# Defining a 3D object with vectors"
   ]
  },
  {
   "cell_type": "markdown",
   "metadata": {},
   "source": [
    "Say if we want to define an octahedron."
   ]
  },
  {
   "cell_type": "markdown",
   "metadata": {},
   "source": [
    "![image.png](images/15.octahedron1.png)"
   ]
  },
  {
   "cell_type": "markdown",
   "metadata": {},
   "source": [
    "![image.png](images/16.octahedron2.png)"
   ]
  },
  {
   "cell_type": "markdown",
   "metadata": {},
   "source": [
    "![image.png](images/17.octahedronVisibleFace.png)"
   ]
  },
  {
   "cell_type": "markdown",
   "metadata": {},
   "source": [
    "### Imagine \n",
    "\n",
    "If we got two points, one is on the left called A, one is on the right called B.\n",
    "\n",
    "How can you move the A to B?\n",
    "\n",
    "Well, you just do this: A + (B - A)\n",
    "\n",
    "So you do the same thing with vectors."
   ]
  },
  {
   "cell_type": "markdown",
   "metadata": {},
   "source": [
    "# Projecting to 2D"
   ]
  },
  {
   "cell_type": "markdown",
   "metadata": {},
   "source": [
    "![image.png](images/18.projectingTo2D1.png)"
   ]
  },
  {
   "cell_type": "markdown",
   "metadata": {},
   "source": [
    "![image.png](images/19.projectingTo2D2.png)"
   ]
  },
  {
   "cell_type": "markdown",
   "metadata": {},
   "source": [
    "Just imagine, how can we get a 2D graph from our perspective while the object is 3D.\n",
    "\n",
    "We are facing a 2D plane, which is the screen. The object is 3D.\n",
    "\n",
    "So we need to project the 3D object to a 2D screen plane."
   ]
  },
  {
   "cell_type": "markdown",
   "metadata": {},
   "source": [
    "**project**: similar to projector, but a conception"
   ]
  },
  {
   "cell_type": "markdown",
   "metadata": {},
   "source": [
    "## yingshaoxo: How do you understand it?"
   ]
  },
  {
   "cell_type": "markdown",
   "metadata": {},
   "source": [
    "> Probably you don't have to understand it. Because I can't understand it either."
   ]
  },
  {
   "cell_type": "markdown",
   "metadata": {},
   "source": [
    "# Orienting faces and shading"
   ]
  },
  {
   "cell_type": "markdown",
   "metadata": {},
   "source": [
    "To shade our 2D drawing, we pick a fixed color for each triangle according to how much it faces a given light source. \n",
    "\n",
    "Let’s say our light source lies at a vector of (1, 2, 3) from the origin. Then the brightness of a triangular face is decided by how close to perpendicular it is to the light. Another way to measure this is by how aligned a perpendicular vector to the face is with the light source."
   ]
  },
  {
   "cell_type": "markdown",
   "metadata": {},
   "source": [
    "Given a vector perpendicular (or normal) to each face and a vector pointing to the light source, their dot product tells us how aligned they are. Moreover, because we’re only considering directions, we can choose vectors with length 1. Then, if the face is pointing toward the light source at all, the dot product will lie between 0 and 1. If it is further than 90° from the light source, it will not be illuminated at all."
   ]
  },
  {
   "cell_type": "markdown",
   "metadata": {},
   "source": [
    "## yingshaoxo: let's wait for a second and consider this carefully"
   ]
  },
  {
   "cell_type": "markdown",
   "metadata": {},
   "source": [
    "1. In 3D space, we got vector `u` and `v`, `u x v` is a perpendicular to `u` and `v`. If we are in a direction represented by vector `c`, if $c \\cdot (u \\times v) == 0$, we can't see anything come from `v` and `u`."
   ]
  },
  {
   "cell_type": "markdown",
   "metadata": {},
   "source": [
    "![image.png](images/12.useCrossProductToIndicateVisibility.png)"
   ]
  },
  {
   "cell_type": "markdown",
   "metadata": {},
   "source": [
    "2. `Dot product` is a measure of how aligned two vectors is. If the result is a positive value, they are in a similar direction. If the result is a negative value, they are in the opposite direction to each other. If the value == 0, they are perpendicular."
   ]
  },
  {
   "cell_type": "code",
   "execution_count": null,
   "metadata": {},
   "outputs": [],
   "source": []
  }
 ],
 "metadata": {
  "kernelspec": {
   "display_name": "Python 3",
   "language": "python",
   "name": "python3"
  },
  "language_info": {
   "codemirror_mode": {
    "name": "ipython",
    "version": 3
   },
   "file_extension": ".py",
   "mimetype": "text/x-python",
   "name": "python",
   "nbconvert_exporter": "python",
   "pygments_lexer": "ipython3",
   "version": "3.9.0"
  }
 },
 "nbformat": 4,
 "nbformat_minor": 4
}
